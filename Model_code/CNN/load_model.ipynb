{
 "cells": [
  {
   "cell_type": "code",
   "execution_count": 10,
   "id": "36220b37",
   "metadata": {},
   "outputs": [],
   "source": [
    "from tensorflow import keras\n",
    "import pandas as pd\n",
    "import numpy as np"
   ]
  },
  {
   "cell_type": "code",
   "execution_count": 4,
   "id": "b8a27b4c",
   "metadata": {
    "scrolled": true
   },
   "outputs": [
    {
     "name": "stderr",
     "output_type": "stream",
     "text": [
      "2023-04-02 12:53:51.974162: I tensorflow/compiler/xla/stream_executor/cuda/cuda_gpu_executor.cc:967] could not open file to read NUMA node: /sys/bus/pci/devices/0000:01:00.0/numa_node\n",
      "Your kernel may have been built without NUMA support.\n",
      "2023-04-02 12:53:51.974303: W tensorflow/compiler/xla/stream_executor/platform/default/dso_loader.cc:64] Could not load dynamic library 'libcudart.so.11.0'; dlerror: libcudart.so.11.0: cannot open shared object file: No such file or directory\n",
      "2023-04-02 12:53:51.974347: W tensorflow/compiler/xla/stream_executor/platform/default/dso_loader.cc:64] Could not load dynamic library 'libcublas.so.11'; dlerror: libcublas.so.11: cannot open shared object file: No such file or directory\n",
      "2023-04-02 12:53:51.974388: W tensorflow/compiler/xla/stream_executor/platform/default/dso_loader.cc:64] Could not load dynamic library 'libcublasLt.so.11'; dlerror: libcublasLt.so.11: cannot open shared object file: No such file or directory\n",
      "2023-04-02 12:53:51.974456: W tensorflow/compiler/xla/stream_executor/platform/default/dso_loader.cc:64] Could not load dynamic library 'libcufft.so.10'; dlerror: libcufft.so.10: cannot open shared object file: No such file or directory\n",
      "2023-04-02 12:53:51.974499: W tensorflow/compiler/xla/stream_executor/platform/default/dso_loader.cc:64] Could not load dynamic library 'libcurand.so.10'; dlerror: libcurand.so.10: cannot open shared object file: No such file or directory\n",
      "2023-04-02 12:53:51.974537: W tensorflow/compiler/xla/stream_executor/platform/default/dso_loader.cc:64] Could not load dynamic library 'libcusolver.so.11'; dlerror: libcusolver.so.11: cannot open shared object file: No such file or directory\n",
      "2023-04-02 12:53:51.974575: W tensorflow/compiler/xla/stream_executor/platform/default/dso_loader.cc:64] Could not load dynamic library 'libcusparse.so.11'; dlerror: libcusparse.so.11: cannot open shared object file: No such file or directory\n",
      "2023-04-02 12:53:51.974638: W tensorflow/compiler/xla/stream_executor/platform/default/dso_loader.cc:64] Could not load dynamic library 'libcudnn.so.8'; dlerror: libcudnn.so.8: cannot open shared object file: No such file or directory\n",
      "2023-04-02 12:53:51.974650: W tensorflow/core/common_runtime/gpu/gpu_device.cc:1934] Cannot dlopen some GPU libraries. Please make sure the missing libraries mentioned above are installed properly if you would like to use GPU. Follow the guide at https://www.tensorflow.org/install/gpu for how to download and setup the required libraries for your platform.\n",
      "Skipping registering GPU devices...\n",
      "2023-04-02 12:53:51.974963: I tensorflow/core/platform/cpu_feature_guard.cc:193] This TensorFlow binary is optimized with oneAPI Deep Neural Network Library (oneDNN) to use the following CPU instructions in performance-critical operations:  AVX2 FMA\n",
      "To enable them in other operations, rebuild TensorFlow with the appropriate compiler flags.\n"
     ]
    }
   ],
   "source": [
    "model = keras.models.load_model('models/5_accents_international_8k.model')\n"
   ]
  },
  {
   "cell_type": "code",
   "execution_count": 5,
   "id": "556e132d",
   "metadata": {},
   "outputs": [
    {
     "name": "stdout",
     "output_type": "stream",
     "text": [
      "Model: \"sequential\"\n",
      "_________________________________________________________________\n",
      " Layer (type)                Output Shape              Param #   \n",
      "=================================================================\n",
      " dense (Dense)               (None, 100)               4100      \n",
      "                                                                 \n",
      " activation (Activation)     (None, 100)               0         \n",
      "                                                                 \n",
      " dropout (Dropout)           (None, 100)               0         \n",
      "                                                                 \n",
      " dense_1 (Dense)             (None, 200)               20200     \n",
      "                                                                 \n",
      " activation_1 (Activation)   (None, 200)               0         \n",
      "                                                                 \n",
      " dropout_1 (Dropout)         (None, 200)               0         \n",
      "                                                                 \n",
      " dense_2 (Dense)             (None, 100)               20100     \n",
      "                                                                 \n",
      " activation_2 (Activation)   (None, 100)               0         \n",
      "                                                                 \n",
      " dropout_2 (Dropout)         (None, 100)               0         \n",
      "                                                                 \n",
      " dense_3 (Dense)             (None, 5)                 505       \n",
      "                                                                 \n",
      " activation_3 (Activation)   (None, 5)                 0         \n",
      "                                                                 \n",
      "=================================================================\n",
      "Total params: 44,905\n",
      "Trainable params: 44,905\n",
      "Non-trainable params: 0\n",
      "_________________________________________________________________\n"
     ]
    }
   ],
   "source": [
    "model.summary()"
   ]
  },
  {
   "cell_type": "code",
   "execution_count": 6,
   "id": "3ff9a1ee",
   "metadata": {},
   "outputs": [],
   "source": [
    "data = pd.read_json('../5_accent_features_8k.json')"
   ]
  },
  {
   "cell_type": "code",
   "execution_count": 8,
   "id": "b7b691b0",
   "metadata": {},
   "outputs": [
    {
     "data": {
      "text/html": [
       "<div>\n",
       "<style scoped>\n",
       "    .dataframe tbody tr th:only-of-type {\n",
       "        vertical-align: middle;\n",
       "    }\n",
       "\n",
       "    .dataframe tbody tr th {\n",
       "        vertical-align: top;\n",
       "    }\n",
       "\n",
       "    .dataframe thead th {\n",
       "        text-align: right;\n",
       "    }\n",
       "</style>\n",
       "<table border=\"1\" class=\"dataframe\">\n",
       "  <thead>\n",
       "    <tr style=\"text-align: right;\">\n",
       "      <th></th>\n",
       "      <th>lable</th>\n",
       "      <th>mfcc</th>\n",
       "    </tr>\n",
       "  </thead>\n",
       "  <tbody>\n",
       "    <tr>\n",
       "      <th>0</th>\n",
       "      <td>american</td>\n",
       "      <td>[[-132.202331543, -106.4561920166, -144.163803...</td>\n",
       "    </tr>\n",
       "    <tr>\n",
       "      <th>1</th>\n",
       "      <td>american</td>\n",
       "      <td>[[-120.1662216187, -64.2591247559, -84.6273498...</td>\n",
       "    </tr>\n",
       "    <tr>\n",
       "      <th>2</th>\n",
       "      <td>american</td>\n",
       "      <td>[[-204.3710479736, -111.2505950928, -130.19665...</td>\n",
       "    </tr>\n",
       "    <tr>\n",
       "      <th>3</th>\n",
       "      <td>indian</td>\n",
       "      <td>[[-204.9865570068, -181.3363800049, -285.47653...</td>\n",
       "    </tr>\n",
       "    <tr>\n",
       "      <th>4</th>\n",
       "      <td>american</td>\n",
       "      <td>[[-238.695098877, -131.825668335, -140.2941741...</td>\n",
       "    </tr>\n",
       "    <tr>\n",
       "      <th>...</th>\n",
       "      <td>...</td>\n",
       "      <td>...</td>\n",
       "    </tr>\n",
       "    <tr>\n",
       "      <th>11125</th>\n",
       "      <td>indian</td>\n",
       "      <td>[[-392.308380127, -253.5061950684, -204.861923...</td>\n",
       "    </tr>\n",
       "    <tr>\n",
       "      <th>11126</th>\n",
       "      <td>british</td>\n",
       "      <td>[[-296.3085021973, -209.2213897705, -214.50019...</td>\n",
       "    </tr>\n",
       "    <tr>\n",
       "      <th>11127</th>\n",
       "      <td>australian</td>\n",
       "      <td>[[-158.1745147705, -105.2735824585, -136.48347...</td>\n",
       "    </tr>\n",
       "    <tr>\n",
       "      <th>11128</th>\n",
       "      <td>american</td>\n",
       "      <td>[[-106.186164856, -56.3407363892, -119.2368698...</td>\n",
       "    </tr>\n",
       "    <tr>\n",
       "      <th>11129</th>\n",
       "      <td>indian</td>\n",
       "      <td>[[-472.9836425781, -234.4741210938, -170.09353...</td>\n",
       "    </tr>\n",
       "  </tbody>\n",
       "</table>\n",
       "<p>11130 rows × 2 columns</p>\n",
       "</div>"
      ],
      "text/plain": [
       "            lable                                               mfcc\n",
       "0        american  [[-132.202331543, -106.4561920166, -144.163803...\n",
       "1        american  [[-120.1662216187, -64.2591247559, -84.6273498...\n",
       "2        american  [[-204.3710479736, -111.2505950928, -130.19665...\n",
       "3          indian  [[-204.9865570068, -181.3363800049, -285.47653...\n",
       "4        american  [[-238.695098877, -131.825668335, -140.2941741...\n",
       "...           ...                                                ...\n",
       "11125      indian  [[-392.308380127, -253.5061950684, -204.861923...\n",
       "11126     british  [[-296.3085021973, -209.2213897705, -214.50019...\n",
       "11127  australian  [[-158.1745147705, -105.2735824585, -136.48347...\n",
       "11128    american  [[-106.186164856, -56.3407363892, -119.2368698...\n",
       "11129      indian  [[-472.9836425781, -234.4741210938, -170.09353...\n",
       "\n",
       "[11130 rows x 2 columns]"
      ]
     },
     "execution_count": 8,
     "metadata": {},
     "output_type": "execute_result"
    }
   ],
   "source": [
    "data = data.drop(['rms', 'zrc', 'sb', 'sc'], axis=1)\n",
    "data"
   ]
  },
  {
   "cell_type": "code",
   "execution_count": 11,
   "id": "ceca4efc",
   "metadata": {},
   "outputs": [
    {
     "data": {
      "text/plain": [
       "(11130, 40)"
      ]
     },
     "execution_count": 11,
     "metadata": {},
     "output_type": "execute_result"
    }
   ],
   "source": [
    "lst = [np.array(l) for l in data.mfcc]\n",
    "new_lst = []\n",
    "for l in lst:\n",
    "    l = np.array([np.mean(values) for values in l])\n",
    "    new_lst.append(l)\n",
    "new_lst = np.array(new_lst)\n",
    "new_lst.shape"
   ]
  },
  {
   "cell_type": "code",
   "execution_count": 12,
   "id": "43789088",
   "metadata": {},
   "outputs": [],
   "source": [
    "X=new_lst\n",
    "y=np.array(data['lable'].tolist())"
   ]
  },
  {
   "cell_type": "code",
   "execution_count": 13,
   "id": "ee38a164",
   "metadata": {},
   "outputs": [],
   "source": [
    "from tensorflow.keras.utils import to_categorical\n",
    "from sklearn.preprocessing import LabelEncoder\n",
    "labelencoder=LabelEncoder()\n",
    "y=to_categorical(labelencoder.fit_transform(y))"
   ]
  },
  {
   "cell_type": "code",
   "execution_count": 22,
   "id": "9191e64d",
   "metadata": {},
   "outputs": [
    {
     "name": "stdout",
     "output_type": "stream",
     "text": [
      "348/348 [==============================] - 0s 1ms/step - loss: 0.0089 - accuracy: 0.9978\n",
      "0.9978436827659607\n"
     ]
    }
   ],
   "source": [
    "test_accuracy=model.evaluate(X, y, verbose=1)\n",
    "print(test_accuracy[1])"
   ]
  },
  {
   "cell_type": "code",
   "execution_count": 17,
   "id": "5fab594b",
   "metadata": {},
   "outputs": [
    {
     "name": "stdout",
     "output_type": "stream",
     "text": [
      "Help on method evaluate in module keras.engine.training:\n",
      "\n",
      "evaluate(x=None, y=None, batch_size=None, verbose='auto', sample_weight=None, steps=None, callbacks=None, max_queue_size=10, workers=1, use_multiprocessing=False, return_dict=False, **kwargs) method of keras.engine.sequential.Sequential instance\n",
      "    Returns the loss value & metrics values for the model in test mode.\n",
      "    \n",
      "    Computation is done in batches (see the `batch_size` arg.)\n",
      "    \n",
      "    Args:\n",
      "        x: Input data. It could be:\n",
      "          - A Numpy array (or array-like), or a list of arrays\n",
      "            (in case the model has multiple inputs).\n",
      "          - A TensorFlow tensor, or a list of tensors\n",
      "            (in case the model has multiple inputs).\n",
      "          - A dict mapping input names to the corresponding array/tensors,\n",
      "            if the model has named inputs.\n",
      "          - A `tf.data` dataset. Should return a tuple\n",
      "            of either `(inputs, targets)` or\n",
      "            `(inputs, targets, sample_weights)`.\n",
      "          - A generator or `keras.utils.Sequence` returning `(inputs,\n",
      "            targets)` or `(inputs, targets, sample_weights)`.\n",
      "          A more detailed description of unpacking behavior for iterator\n",
      "          types (Dataset, generator, Sequence) is given in the `Unpacking\n",
      "          behavior for iterator-like inputs` section of `Model.fit`.\n",
      "        y: Target data. Like the input data `x`, it could be either Numpy\n",
      "          array(s) or TensorFlow tensor(s). It should be consistent with `x`\n",
      "          (you cannot have Numpy inputs and tensor targets, or inversely).\n",
      "          If `x` is a dataset, generator or `keras.utils.Sequence` instance,\n",
      "          `y` should not be specified (since targets will be obtained from\n",
      "          the iterator/dataset).\n",
      "        batch_size: Integer or `None`. Number of samples per batch of\n",
      "          computation. If unspecified, `batch_size` will default to 32. Do\n",
      "          not specify the `batch_size` if your data is in the form of a\n",
      "          dataset, generators, or `keras.utils.Sequence` instances (since\n",
      "          they generate batches).\n",
      "        verbose: `\"auto\"`, 0, 1, or 2. Verbosity mode.\n",
      "            0 = silent, 1 = progress bar, 2 = single line.\n",
      "            `\"auto\"` defaults to 1 for most cases, and to 2 when used with\n",
      "            `ParameterServerStrategy`. Note that the progress bar is not\n",
      "            particularly useful when logged to a file, so `verbose=2` is\n",
      "            recommended when not running interactively (e.g. in a production\n",
      "            environment).\n",
      "        sample_weight: Optional Numpy array of weights for the test samples,\n",
      "          used for weighting the loss function. You can either pass a flat\n",
      "          (1D) Numpy array with the same length as the input samples\n",
      "            (1:1 mapping between weights and samples), or in the case of\n",
      "              temporal data, you can pass a 2D array with shape `(samples,\n",
      "              sequence_length)`, to apply a different weight to every\n",
      "              timestep of every sample. This argument is not supported when\n",
      "              `x` is a dataset, instead pass sample weights as the third\n",
      "              element of `x`.\n",
      "        steps: Integer or `None`. Total number of steps (batches of samples)\n",
      "          before declaring the evaluation round finished. Ignored with the\n",
      "          default value of `None`. If x is a `tf.data` dataset and `steps`\n",
      "          is None, 'evaluate' will run until the dataset is exhausted. This\n",
      "          argument is not supported with array inputs.\n",
      "        callbacks: List of `keras.callbacks.Callback` instances. List of\n",
      "          callbacks to apply during evaluation. See\n",
      "          [callbacks](https://www.tensorflow.org/api_docs/python/tf/keras/callbacks).\n",
      "        max_queue_size: Integer. Used for generator or\n",
      "          `keras.utils.Sequence` input only. Maximum size for the generator\n",
      "          queue. If unspecified, `max_queue_size` will default to 10.\n",
      "        workers: Integer. Used for generator or `keras.utils.Sequence` input\n",
      "          only. Maximum number of processes to spin up when using\n",
      "          process-based threading. If unspecified, `workers` will default to\n",
      "          1.\n",
      "        use_multiprocessing: Boolean. Used for generator or\n",
      "          `keras.utils.Sequence` input only. If `True`, use process-based\n",
      "          threading. If unspecified, `use_multiprocessing` will default to\n",
      "          `False`. Note that because this implementation relies on\n",
      "          multiprocessing, you should not pass non-picklable arguments to\n",
      "          the generator as they can't be passed easily to children\n",
      "          processes.\n",
      "        return_dict: If `True`, loss and metric results are returned as a\n",
      "          dict, with each key being the name of the metric. If `False`, they\n",
      "          are returned as a list.\n",
      "        **kwargs: Unused at this time.\n",
      "    \n",
      "    See the discussion of `Unpacking behavior for iterator-like inputs` for\n",
      "    `Model.fit`.\n",
      "    \n",
      "    Returns:\n",
      "        Scalar test loss (if the model has a single output and no metrics)\n",
      "        or list of scalars (if the model has multiple outputs\n",
      "        and/or metrics). The attribute `model.metrics_names` will give you\n",
      "        the display labels for the scalar outputs.\n",
      "    \n",
      "    Raises:\n",
      "        RuntimeError: If `model.evaluate` is wrapped in a `tf.function`.\n",
      "\n"
     ]
    }
   ],
   "source": [
    "help(model.evaluate)"
   ]
  }
 ],
 "metadata": {
  "kernelspec": {
   "display_name": "Python 3 (ipykernel)",
   "language": "python",
   "name": "python3"
  },
  "language_info": {
   "codemirror_mode": {
    "name": "ipython",
    "version": 3
   },
   "file_extension": ".py",
   "mimetype": "text/x-python",
   "name": "python",
   "nbconvert_exporter": "python",
   "pygments_lexer": "ipython3",
   "version": "3.9.2"
  }
 },
 "nbformat": 4,
 "nbformat_minor": 5
}
