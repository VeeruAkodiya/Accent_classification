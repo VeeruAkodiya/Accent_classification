{
 "cells": [
  {
   "cell_type": "code",
   "execution_count": 12,
   "id": "22a19e70",
   "metadata": {},
   "outputs": [],
   "source": [
    "import librosa\n",
    "import numpy as np\n",
    "from dataset import DatasetManager"
   ]
  },
  {
   "cell_type": "code",
   "execution_count": 7,
   "id": "a189b8de",
   "metadata": {},
   "outputs": [],
   "source": [
    "Dataset = DatasetManager(\"/home/rutvik/Projects/Final_Year_Project/example\", \"wav\")\n",
    "all_files = Dataset.get_all_files()\n"
   ]
  },
  {
   "cell_type": "code",
   "execution_count": 8,
   "id": "89e58516",
   "metadata": {},
   "outputs": [
    {
     "data": {
      "text/plain": [
       "['/home/rutvik/Projects/Final_Year_Project/example/indian_s01_001.wav',\n",
       " '/home/rutvik/Projects/Final_Year_Project/example/british_s01_001.wav',\n",
       " '/home/rutvik/Projects/Final_Year_Project/example/malayalam_s01_000.wav',\n",
       " '/home/rutvik/Projects/Final_Year_Project/example/bangla_s01_000.wav',\n",
       " '/home/rutvik/Projects/Final_Year_Project/example/telugu_s01_000.wav',\n",
       " '/home/rutvik/Projects/Final_Year_Project/example/welsh_s01_001.wav',\n",
       " '/home/rutvik/Projects/Final_Year_Project/example/australian_s01_001.wav',\n",
       " '/home/rutvik/Projects/Final_Year_Project/example/odiya_s01_000.wav',\n",
       " '/home/rutvik/Projects/Final_Year_Project/example/american_s01_001.wav']"
      ]
     },
     "execution_count": 8,
     "metadata": {},
     "output_type": "execute_result"
    }
   ],
   "source": [
    "all_files"
   ]
  },
  {
   "cell_type": "code",
   "execution_count": 13,
   "id": "c321eca7",
   "metadata": {
    "scrolled": true
   },
   "outputs": [
    {
     "name": "stdout",
     "output_type": "stream",
     "text": [
      "[-3.0517578e-05  0.0000000e+00 -3.0517578e-05 ... -3.0517578e-05\n",
      "  0.0000000e+00 -3.0517578e-05] 8000 21093\n",
      "[-3.0517578e-05  0.0000000e+00 -3.0517578e-05 ... -3.0517578e-05\n",
      "  0.0000000e+00 -3.0517578e-05] 8000 20671\n",
      "[-2.0513311e-05 -7.4616401e-05  5.3027796e-04 ... -2.8162068e-03\n",
      " -1.7230043e-03 -3.8441841e-03] 8000 40000\n",
      "[ 7.3301001e-04  9.2760427e-05 -2.2681984e-03 ... -1.1532803e-03\n",
      " -5.4419809e-04 -3.6045618e-04] 8000 27200\n",
      "[ 6.8926113e-04 -9.2938542e-05  1.7852057e-05 ...  2.7266552e-03\n",
      "  1.5216392e-03  1.1478876e-03] 8000 35200\n",
      "[-3.0517578e-05  0.0000000e+00 -3.0517578e-05 ... -3.0517578e-05\n",
      "  0.0000000e+00 -3.0517578e-05] 8000 18822\n",
      "[-3.0517578e-05  0.0000000e+00 -3.0517578e-05 ... -3.0517578e-05\n",
      "  0.0000000e+00 -3.0517578e-05] 8000 17763\n",
      "[-0.00358169 -0.00537651 -0.00292933 ... -0.00179016 -0.00125389\n",
      " -0.00080135] 8000 38400\n",
      "[-3.0517578e-05  0.0000000e+00 -3.0517578e-05 ... -3.0517578e-05\n",
      "  0.0000000e+00 -3.0517578e-05] 8000 17394\n"
     ]
    }
   ],
   "source": [
    "for i, file in enumerate(all_files):\n",
    "    signal, _ = librosa.load(file, sr=8000)\n",
    "    signal = np.trim_zeros(signal)\n",
    "    print(signal, _, len(signal))"
   ]
  },
  {
   "cell_type": "code",
   "execution_count": 12,
   "id": "6a20ef44",
   "metadata": {},
   "outputs": [
    {
     "ename": "NameError",
     "evalue": "name 'Path' is not defined",
     "output_type": "error",
     "traceback": [
      "\u001b[0;31m---------------------------------------------------------------------------\u001b[0m",
      "\u001b[0;31mNameError\u001b[0m                                 Traceback (most recent call last)",
      "Cell \u001b[0;32mIn [12], line 1\u001b[0m\n\u001b[0;32m----> 1\u001b[0m all_files_lables \u001b[38;5;241m=\u001b[39m [Path(file)\u001b[38;5;241m.\u001b[39mstem[:\u001b[38;5;241m-\u001b[39m\u001b[38;5;241m8\u001b[39m] \u001b[38;5;28;01mfor\u001b[39;00m file \u001b[38;5;129;01min\u001b[39;00m all_files]\n",
      "Cell \u001b[0;32mIn [12], line 1\u001b[0m, in \u001b[0;36m<listcomp>\u001b[0;34m(.0)\u001b[0m\n\u001b[0;32m----> 1\u001b[0m all_files_lables \u001b[38;5;241m=\u001b[39m [\u001b[43mPath\u001b[49m(file)\u001b[38;5;241m.\u001b[39mstem[:\u001b[38;5;241m-\u001b[39m\u001b[38;5;241m8\u001b[39m] \u001b[38;5;28;01mfor\u001b[39;00m file \u001b[38;5;129;01min\u001b[39;00m all_files]\n",
      "\u001b[0;31mNameError\u001b[0m: name 'Path' is not defined"
     ]
    }
   ],
   "source": [
    "all_files_lables = [Path(file).stem[:-8] for file in all_files]"
   ]
  },
  {
   "cell_type": "code",
   "execution_count": null,
   "id": "4100dbfd",
   "metadata": {},
   "outputs": [],
   "source": []
  },
  {
   "cell_type": "code",
   "execution_count": 19,
   "id": "350c30a6",
   "metadata": {},
   "outputs": [
    {
     "name": "stdout",
     "output_type": "stream",
     "text": [
      "dict_values([8000, 3, ['a', 'b', 'c'], {'a': 1, 'b': 2, 'c': 3}])\n"
     ]
    },
    {
     "ename": "ValueError",
     "evalue": "too many values to unpack (expected 2)",
     "output_type": "error",
     "traceback": [
      "\u001b[0;31m---------------------------------------------------------------------------\u001b[0m",
      "\u001b[0;31mValueError\u001b[0m                                Traceback (most recent call last)",
      "Cell \u001b[0;32mIn [19], line 12\u001b[0m\n\u001b[1;32m      1\u001b[0m all_data \u001b[38;5;241m=\u001b[39m {\n\u001b[1;32m      2\u001b[0m     \u001b[38;5;124m\"\u001b[39m\u001b[38;5;124msample_rate\u001b[39m\u001b[38;5;124m\"\u001b[39m: \u001b[38;5;241m8000\u001b[39m,\n\u001b[1;32m      3\u001b[0m     \u001b[38;5;124m\"\u001b[39m\u001b[38;5;124mtotal_labels\u001b[39m\u001b[38;5;124m\"\u001b[39m: \u001b[38;5;241m3\u001b[39m,\n\u001b[0;32m   (...)\u001b[0m\n\u001b[1;32m      9\u001b[0m     }\n\u001b[1;32m     10\u001b[0m }\n\u001b[1;32m     11\u001b[0m \u001b[38;5;28mprint\u001b[39m(all_data\u001b[38;5;241m.\u001b[39mvalues())\n\u001b[0;32m---> 12\u001b[0m \u001b[38;5;28;01mfor\u001b[39;00m k, v \u001b[38;5;129;01min\u001b[39;00m all_data\u001b[38;5;241m.\u001b[39mkeys():\n\u001b[1;32m     13\u001b[0m     \u001b[38;5;28mprint\u001b[39m(k, v)\n",
      "\u001b[0;31mValueError\u001b[0m: too many values to unpack (expected 2)"
     ]
    }
   ],
   "source": [
    "all_data = {\n",
    "    \"sample_rate\": 8000,\n",
    "    \"total_labels\": 3,\n",
    "    \"accent_labels\": [\"a\", \"b\", \"c\"],\n",
    "    \"label_count\": {\n",
    "        \"a\": 1,\n",
    "        \"b\": 2,\n",
    "        \"c\": 3,\n",
    "    }\n",
    "}\n",
    "print(all_data.values())\n",
    "for k, v in all_data.keys():\n",
    "    print(k, v)"
   ]
  }
 ],
 "metadata": {
  "kernelspec": {
   "display_name": "Python 3 (ipykernel)",
   "language": "python",
   "name": "python3"
  },
  "language_info": {
   "codemirror_mode": {
    "name": "ipython",
    "version": 3
   },
   "file_extension": ".py",
   "mimetype": "text/x-python",
   "name": "python",
   "nbconvert_exporter": "python",
   "pygments_lexer": "ipython3",
   "version": "3.9.2"
  }
 },
 "nbformat": 4,
 "nbformat_minor": 5
}
