{
 "cells": [
  {
   "cell_type": "code",
   "execution_count": 1,
   "id": "b6f5d0db",
   "metadata": {},
   "outputs": [],
   "source": [
    "import librosa\n",
    "import librosa.display\n",
    "import IPython.display as ipd\n",
    "import matplotlib.pyplot as plt \n",
    "import numpy as np\n",
    "from dataset import DatasetManager\n",
    "from pathlib import Path\n",
    "import random\n",
    "import pandas as pd\n",
    "from statistics import mean"
   ]
  },
  {
   "cell_type": "code",
   "execution_count": 2,
   "id": "1766e37b",
   "metadata": {},
   "outputs": [],
   "source": [
    "FRAME_LENGTH = 1024\n",
    "HOP_LENGTH = 512\n",
    "sr = 8000"
   ]
  },
  {
   "cell_type": "code",
   "execution_count": 3,
   "id": "cd2cffdb",
   "metadata": {},
   "outputs": [
    {
     "name": "stdout",
     "output_type": "stream",
     "text": [
      "11130\n",
      "['american', 'american', 'american']\n"
     ]
    }
   ],
   "source": [
    "Dataset = DatasetManager(\"/mnt/c/Users/rutvik/Downloads/accentdb_extended/data/5_accents_international\", \"wav\")\n",
    "all_files = Dataset.get_all_files()\n",
    "random.seed(10)\n",
    "random.shuffle(all_files)\n",
    "\n",
    "all_files = all_files\n",
    "\n",
    "print(len(all_files))\n",
    "all_files_lables = [Path(file).stem[:-8] for file in all_files]\n",
    "print(all_files_lables[:3])"
   ]
  },
  {
   "cell_type": "code",
   "execution_count": 14,
   "id": "201f1fa8",
   "metadata": {},
   "outputs": [],
   "source": [
    "def padding(array, xx, yy):\n",
    "    \"\"\"\n",
    "    :param array: numpy array\n",
    "    :param xx: desired height\n",
    "    :param yy: desirex width\n",
    "    :return: padded array\n",
    "    \"\"\"\n",
    "\n",
    "    h = array.shape[0]\n",
    "    w = array.shape[1]\n",
    "\n",
    "    a = (xx - h) // 2\n",
    "    aa = xx - a - h\n",
    "\n",
    "    b = (yy - w) // 2\n",
    "    bb = yy - b - w\n",
    "\n",
    "    return np.pad(array, pad_width=((a, aa), (b, bb)), mode='constant')"
   ]
  },
  {
   "cell_type": "code",
   "execution_count": 17,
   "id": "a5c4a28e",
   "metadata": {
    "scrolled": true
   },
   "outputs": [
    {
     "ename": "TypeError",
     "evalue": "mfcc() takes 0 positional arguments but 1 positional argument (and 1 keyword-only argument) were given",
     "output_type": "error",
     "traceback": [
      "\u001b[0;31m---------------------------------------------------------------------------\u001b[0m",
      "\u001b[0;31mTypeError\u001b[0m                                 Traceback (most recent call last)",
      "Cell \u001b[0;32mIn[17], line 6\u001b[0m\n\u001b[1;32m      3\u001b[0m     signal, _ \u001b[38;5;241m=\u001b[39m librosa\u001b[38;5;241m.\u001b[39mload(file, sr\u001b[38;5;241m=\u001b[39msr)\n\u001b[1;32m      4\u001b[0m     signal \u001b[38;5;241m=\u001b[39m np\u001b[38;5;241m.\u001b[39mtrim_zeros(signal)\n\u001b[0;32m----> 6\u001b[0m     data \u001b[38;5;241m=\u001b[39m np\u001b[38;5;241m.\u001b[39marray([padding(\u001b[43mlibrosa\u001b[49m\u001b[38;5;241;43m.\u001b[39;49m\u001b[43mfeature\u001b[49m\u001b[38;5;241;43m.\u001b[39;49m\u001b[43mmfcc\u001b[49m\u001b[43m(\u001b[49m\u001b[43msignal\u001b[49m\u001b[43m,\u001b[49m\u001b[43m \u001b[49m\u001b[43mhop_length\u001b[49m\u001b[38;5;241;43m=\u001b[39;49m\u001b[43mHOP_LENGTH\u001b[49m\u001b[43m,\u001b[49m\u001b[43mn_mfcc\u001b[49m\u001b[38;5;241;43m=\u001b[39;49m\u001b[38;5;241;43m40\u001b[39;49m\u001b[43m)\u001b[49m,\u001b[38;5;241m1\u001b[39m,\u001b[38;5;241m400\u001b[39m)])\n\u001b[1;32m      7\u001b[0m \u001b[38;5;66;03m#     signal_mfcc = librosa.feature.mfcc(y=signal, sr=sr, n_mfcc = 40)\u001b[39;00m\n\u001b[1;32m      8\u001b[0m     all_files_mfcc\u001b[38;5;241m.\u001b[39mappend(data)\n",
      "\u001b[0;31mTypeError\u001b[0m: mfcc() takes 0 positional arguments but 1 positional argument (and 1 keyword-only argument) were given"
     ]
    }
   ],
   "source": [
    "all_files_mfcc = []\n",
    "for i, file in enumerate(all_files):\n",
    "    signal, _ = librosa.load(file, sr=sr)\n",
    "    signal = np.trim_zeros(signal)\n",
    "    \n",
    "    data = np.array([padding(librosa.feature.mfcc(signal, hop_length=HOP_LENGTH,n_mfcc=40),1,400)])\n",
    "#     signal_mfcc = librosa.feature.mfcc(y=signal, sr=sr, n_mfcc = 40)\n",
    "    all_files_mfcc.append(data)\n",
    "    all_files_mfcc=np.concatenate(all_files_mfcc,axis=0)\n",
    "    print(i ,end=' ')"
   ]
  },
  {
   "cell_type": "code",
   "execution_count": 5,
   "id": "337f33f7",
   "metadata": {},
   "outputs": [
    {
     "data": {
      "text/plain": [
       "11130"
      ]
     },
     "execution_count": 5,
     "metadata": {},
     "output_type": "execute_result"
    }
   ],
   "source": [
    "len(all_files)"
   ]
  },
  {
   "cell_type": "code",
   "execution_count": 6,
   "id": "31de2f1a",
   "metadata": {},
   "outputs": [
    {
     "name": "stdout",
     "output_type": "stream",
     "text": [
      "11130\n"
     ]
    },
    {
     "data": {
      "text/plain": [
       "{'american': 5936,\n",
       " 'indian': 1484,\n",
       " 'british': 1484,\n",
       " 'welsh': 742,\n",
       " 'australian': 1484}"
      ]
     },
     "execution_count": 6,
     "metadata": {},
     "output_type": "execute_result"
    }
   ],
   "source": [
    "all_files = all_files\n",
    "\n",
    "print(len(all_files))\n",
    "all_files_labels = [Path(file).stem[:-8] for file in all_files]\n",
    "all_labels = L = list(dict.fromkeys(all_files_labels))\n",
    "label_count = {}\n",
    "for label in all_labels:\n",
    "    label_count[label] = all_files_labels.count(label)\n",
    "label_count"
   ]
  },
  {
   "cell_type": "code",
   "execution_count": 12,
   "id": "a9deffc9",
   "metadata": {
    "scrolled": true
   },
   "outputs": [
    {
     "data": {
      "text/plain": [
       "(40, 41)"
      ]
     },
     "execution_count": 12,
     "metadata": {},
     "output_type": "execute_result"
    }
   ],
   "source": [
    "all_files_mfcc[6].shape"
   ]
  },
  {
   "cell_type": "code",
   "execution_count": 8,
   "id": "d9ee3bae",
   "metadata": {},
   "outputs": [
    {
     "name": "stderr",
     "output_type": "stream",
     "text": [
      "/tmp/ipykernel_230/2612320342.py:2: VisibleDeprecationWarning: Creating an ndarray from ragged nested sequences (which is a list-or-tuple of lists-or-tuples-or ndarrays with different lengths or shapes) is deprecated. If you meant to do this, you must specify 'dtype=object' when creating the ndarray.\n",
      "  all_files_mfcc = np.array(all_files_mfcc)\n"
     ]
    },
    {
     "ename": "ValueError",
     "evalue": "could not broadcast input array from shape (40,32) into shape (40,)",
     "output_type": "error",
     "traceback": [
      "\u001b[0;31m---------------------------------------------------------------------------\u001b[0m",
      "\u001b[0;31mValueError\u001b[0m                                Traceback (most recent call last)",
      "Cell \u001b[0;32mIn[8], line 2\u001b[0m\n\u001b[1;32m      1\u001b[0m all_labels \u001b[38;5;241m=\u001b[39m np\u001b[38;5;241m.\u001b[39marray(all_labels)\n\u001b[0;32m----> 2\u001b[0m all_files_mfcc \u001b[38;5;241m=\u001b[39m \u001b[43mnp\u001b[49m\u001b[38;5;241;43m.\u001b[39;49m\u001b[43marray\u001b[49m\u001b[43m(\u001b[49m\u001b[43mall_files_mfcc\u001b[49m\u001b[43m)\u001b[49m\n",
      "\u001b[0;31mValueError\u001b[0m: could not broadcast input array from shape (40,32) into shape (40,)"
     ]
    }
   ],
   "source": [
    "all_labels = np.array(all_labels)\n",
    "all_files_mfcc = np.array(all_files_mfcc)"
   ]
  },
  {
   "cell_type": "code",
   "execution_count": null,
   "id": "08dc30a0",
   "metadata": {},
   "outputs": [],
   "source": [
    "data.to_json('./5_accent_features_mfcc_8k.json')"
   ]
  },
  {
   "cell_type": "code",
   "execution_count": null,
   "id": "169ad9db",
   "metadata": {},
   "outputs": [],
   "source": []
  }
 ],
 "metadata": {
  "kernelspec": {
   "display_name": "Python 3 (ipykernel)",
   "language": "python",
   "name": "python3"
  },
  "language_info": {
   "codemirror_mode": {
    "name": "ipython",
    "version": 3
   },
   "file_extension": ".py",
   "mimetype": "text/x-python",
   "name": "python",
   "nbconvert_exporter": "python",
   "pygments_lexer": "ipython3",
   "version": "3.9.2"
  }
 },
 "nbformat": 4,
 "nbformat_minor": 5
}
