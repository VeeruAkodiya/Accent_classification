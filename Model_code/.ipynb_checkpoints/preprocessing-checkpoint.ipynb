{
 "cells": [
  {
   "cell_type": "code",
   "execution_count": 1,
   "id": "22a640fd",
   "metadata": {},
   "outputs": [],
   "source": [
    "import librosa\n",
    "import librosa.display\n",
    "import IPython.display as ipd\n",
    "import matplotlib.pyplot as plt \n",
    "import numpy as np\n",
    "from pathlib import Path\n",
    "import random\n",
    "import pandas as pd\n",
    "from statistics import mean\n",
    "\n",
    "# Custom\n",
    "from dataset import DatasetManager"
   ]
  },
  {
   "cell_type": "code",
   "execution_count": 2,
   "id": "6d302fdb",
   "metadata": {},
   "outputs": [],
   "source": [
    "DATASET_PATH = \"/mnt/c/Users/rutvik/Downloads/accentDB_extended/data/\"\n",
    "FRAME_LENGTH = 1024\n",
    "HOP_LENGTH = 512\n",
    "sr = 8000\n",
    "\n",
    "random.seed(0)"
   ]
  },
  {
   "cell_type": "code",
   "execution_count": 3,
   "id": "4cd965f9",
   "metadata": {},
   "outputs": [],
   "source": [
    "Dataset = DatasetManager(DATASET_PATH, \"wav\")"
   ]
  },
  {
   "cell_type": "code",
   "execution_count": 4,
   "id": "d1ecb537",
   "metadata": {
    "scrolled": true
   },
   "outputs": [],
   "source": [
    "all_files = Dataset.get_all_files()"
   ]
  },
  {
   "cell_type": "code",
   "execution_count": 5,
   "id": "7ec167a1",
   "metadata": {
    "scrolled": true
   },
   "outputs": [
    {
     "data": {
      "text/plain": [
       "17313"
      ]
     },
     "execution_count": 5,
     "metadata": {},
     "output_type": "execute_result"
    }
   ],
   "source": [
    "len(all_files)"
   ]
  },
  {
   "cell_type": "code",
   "execution_count": 6,
   "id": "34d0b25f",
   "metadata": {
    "scrolled": true
   },
   "outputs": [
    {
     "name": "stdout",
     "output_type": "stream",
     "text": [
      "17313\n"
     ]
    },
    {
     "data": {
      "text/plain": [
       "{'american': 5936,\n",
       " 'australian': 1484,\n",
       " 'bangla': 1528,\n",
       " 'british': 1484,\n",
       " 'indian': 1484,\n",
       " 'malayalam': 2393,\n",
       " 'odiya': 747,\n",
       " 'telugu': 1515,\n",
       " 'welsh': 742}"
      ]
     },
     "execution_count": 6,
     "metadata": {},
     "output_type": "execute_result"
    }
   ],
   "source": [
    "all_files = all_files\n",
    "\n",
    "print(len(all_files))\n",
    "all_files_labels = [Path(file).stem[:-8] for file in all_files]\n",
    "all_labels = L = list(dict.fromkeys(all_files_labels))\n",
    "label_count = {}\n",
    "for label in all_labels:\n",
    "    label_count[label] = all_files_labels.count(label)\n",
    "label_count"
   ]
  },
  {
   "cell_type": "code",
   "execution_count": 10,
   "id": "f4d3ac65",
   "metadata": {
    "scrolled": true
   },
   "outputs": [
    {
     "name": "stdout",
     "output_type": "stream",
     "text": [
      "/mnt/c/Users/rutvik/Downloads/accentDB_extended/data/american/speaker_01/american_s01_001.wav\n",
      "/mnt/c/Users/rutvik/Downloads/accentDB_extended/data/american/speaker_01/american_s01_002.wav\n",
      "/mnt/c/Users/rutvik/Downloads/accentDB_extended/data/american/speaker_01/american_s01_003.wav\n",
      "/mnt/c/Users/rutvik/Downloads/accentDB_extended/data/american/speaker_01/american_s01_004.wav\n",
      "/mnt/c/Users/rutvik/Downloads/accentDB_extended/data/american/speaker_01/american_s01_005.wav\n",
      "/mnt/c/Users/rutvik/Downloads/accentDB_extended/data/american/speaker_01/american_s01_006.wav\n",
      "/mnt/c/Users/rutvik/Downloads/accentDB_extended/data/american/speaker_01/american_s01_007.wav\n",
      "/mnt/c/Users/rutvik/Downloads/accentDB_extended/data/american/speaker_01/american_s01_008.wav\n",
      "/mnt/c/Users/rutvik/Downloads/accentDB_extended/data/american/speaker_01/american_s01_009.wav\n",
      "/mnt/c/Users/rutvik/Downloads/accentDB_extended/data/american/speaker_01/american_s01_010.wav\n",
      "/mnt/c/Users/rutvik/Downloads/accentDB_extended/data/american/speaker_01/american_s01_011.wav\n",
      "/mnt/c/Users/rutvik/Downloads/accentDB_extended/data/american/speaker_01/american_s01_012.wav\n",
      "/mnt/c/Users/rutvik/Downloads/accentDB_extended/data/american/speaker_01/american_s01_013.wav\n",
      "/mnt/c/Users/rutvik/Downloads/accentDB_extended/data/american/speaker_01/american_s01_014.wav\n",
      "/mnt/c/Users/rutvik/Downloads/accentDB_extended/data/american/speaker_01/american_s01_015.wav\n",
      "/mnt/c/Users/rutvik/Downloads/accentDB_extended/data/american/speaker_01/american_s01_016.wav\n",
      "/mnt/c/Users/rutvik/Downloads/accentDB_extended/data/american/speaker_01/american_s01_017.wav\n",
      "/mnt/c/Users/rutvik/Downloads/accentDB_extended/data/american/speaker_01/american_s01_018.wav\n",
      "/mnt/c/Users/rutvik/Downloads/accentDB_extended/data/american/speaker_01/american_s01_019.wav\n",
      "/mnt/c/Users/rutvik/Downloads/accentDB_extended/data/american/speaker_01/american_s01_020.wav\n",
      "/mnt/c/Users/rutvik/Downloads/accentDB_extended/data/american/speaker_01/american_s01_021.wav\n",
      "/mnt/c/Users/rutvik/Downloads/accentDB_extended/data/american/speaker_01/american_s01_022.wav\n",
      "/mnt/c/Users/rutvik/Downloads/accentDB_extended/data/american/speaker_01/american_s01_023.wav\n",
      "/mnt/c/Users/rutvik/Downloads/accentDB_extended/data/american/speaker_01/american_s01_024.wav\n",
      "/mnt/c/Users/rutvik/Downloads/accentDB_extended/data/american/speaker_01/american_s01_025.wav\n",
      "/mnt/c/Users/rutvik/Downloads/accentDB_extended/data/american/speaker_01/american_s01_026.wav\n",
      "/mnt/c/Users/rutvik/Downloads/accentDB_extended/data/american/speaker_01/american_s01_027.wav\n",
      "/mnt/c/Users/rutvik/Downloads/accentDB_extended/data/american/speaker_01/american_s01_028.wav\n",
      "/mnt/c/Users/rutvik/Downloads/accentDB_extended/data/american/speaker_01/american_s01_029.wav\n",
      "/mnt/c/Users/rutvik/Downloads/accentDB_extended/data/american/speaker_01/american_s01_030.wav\n",
      "/mnt/c/Users/rutvik/Downloads/accentDB_extended/data/american/speaker_01/american_s01_031.wav\n",
      "/mnt/c/Users/rutvik/Downloads/accentDB_extended/data/american/speaker_01/american_s01_032.wav\n",
      "/mnt/c/Users/rutvik/Downloads/accentDB_extended/data/american/speaker_01/american_s01_033.wav\n",
      "/mnt/c/Users/rutvik/Downloads/accentDB_extended/data/american/speaker_01/american_s01_034.wav\n",
      "/mnt/c/Users/rutvik/Downloads/accentDB_extended/data/american/speaker_01/american_s01_035.wav\n",
      "/mnt/c/Users/rutvik/Downloads/accentDB_extended/data/american/speaker_01/american_s01_036.wav\n",
      "/mnt/c/Users/rutvik/Downloads/accentDB_extended/data/american/speaker_01/american_s01_037.wav\n",
      "/mnt/c/Users/rutvik/Downloads/accentDB_extended/data/american/speaker_01/american_s01_038.wav\n",
      "/mnt/c/Users/rutvik/Downloads/accentDB_extended/data/american/speaker_01/american_s01_039.wav\n",
      "/mnt/c/Users/rutvik/Downloads/accentDB_extended/data/american/speaker_01/american_s01_040.wav\n",
      "/mnt/c/Users/rutvik/Downloads/accentDB_extended/data/american/speaker_01/american_s01_041.wav\n",
      "/mnt/c/Users/rutvik/Downloads/accentDB_extended/data/american/speaker_01/american_s01_042.wav\n",
      "/mnt/c/Users/rutvik/Downloads/accentDB_extended/data/american/speaker_01/american_s01_043.wav\n",
      "/mnt/c/Users/rutvik/Downloads/accentDB_extended/data/american/speaker_01/american_s01_044.wav\n",
      "/mnt/c/Users/rutvik/Downloads/accentDB_extended/data/american/speaker_01/american_s01_045.wav\n",
      "/mnt/c/Users/rutvik/Downloads/accentDB_extended/data/american/speaker_01/american_s01_046.wav\n",
      "/mnt/c/Users/rutvik/Downloads/accentDB_extended/data/american/speaker_01/american_s01_047.wav\n",
      "/mnt/c/Users/rutvik/Downloads/accentDB_extended/data/american/speaker_01/american_s01_048.wav\n",
      "/mnt/c/Users/rutvik/Downloads/accentDB_extended/data/american/speaker_01/american_s01_049.wav\n",
      "/mnt/c/Users/rutvik/Downloads/accentDB_extended/data/american/speaker_01/american_s01_050.wav\n",
      "/mnt/c/Users/rutvik/Downloads/accentDB_extended/data/american/speaker_01/american_s01_051.wav\n",
      "/mnt/c/Users/rutvik/Downloads/accentDB_extended/data/american/speaker_01/american_s01_052.wav\n",
      "/mnt/c/Users/rutvik/Downloads/accentDB_extended/data/american/speaker_01/american_s01_053.wav\n",
      "/mnt/c/Users/rutvik/Downloads/accentDB_extended/data/american/speaker_01/american_s01_054.wav\n",
      "/mnt/c/Users/rutvik/Downloads/accentDB_extended/data/american/speaker_01/american_s01_055.wav\n",
      "/mnt/c/Users/rutvik/Downloads/accentDB_extended/data/american/speaker_01/american_s01_056.wav\n",
      "/mnt/c/Users/rutvik/Downloads/accentDB_extended/data/american/speaker_01/american_s01_057.wav\n",
      "/mnt/c/Users/rutvik/Downloads/accentDB_extended/data/american/speaker_01/american_s01_058.wav\n",
      "/mnt/c/Users/rutvik/Downloads/accentDB_extended/data/american/speaker_01/american_s01_059.wav\n",
      "/mnt/c/Users/rutvik/Downloads/accentDB_extended/data/american/speaker_01/american_s01_060.wav\n",
      "/mnt/c/Users/rutvik/Downloads/accentDB_extended/data/american/speaker_01/american_s01_061.wav\n",
      "/mnt/c/Users/rutvik/Downloads/accentDB_extended/data/american/speaker_01/american_s01_062.wav\n",
      "/mnt/c/Users/rutvik/Downloads/accentDB_extended/data/american/speaker_01/american_s01_063.wav\n",
      "/mnt/c/Users/rutvik/Downloads/accentDB_extended/data/american/speaker_01/american_s01_064.wav\n",
      "/mnt/c/Users/rutvik/Downloads/accentDB_extended/data/american/speaker_01/american_s01_065.wav\n",
      "/mnt/c/Users/rutvik/Downloads/accentDB_extended/data/american/speaker_01/american_s01_066.wav\n",
      "/mnt/c/Users/rutvik/Downloads/accentDB_extended/data/american/speaker_01/american_s01_067.wav\n",
      "/mnt/c/Users/rutvik/Downloads/accentDB_extended/data/american/speaker_01/american_s01_068.wav\n",
      "/mnt/c/Users/rutvik/Downloads/accentDB_extended/data/american/speaker_01/american_s01_069.wav\n",
      "/mnt/c/Users/rutvik/Downloads/accentDB_extended/data/american/speaker_01/american_s01_070.wav\n",
      "/mnt/c/Users/rutvik/Downloads/accentDB_extended/data/american/speaker_01/american_s01_071.wav\n",
      "/mnt/c/Users/rutvik/Downloads/accentDB_extended/data/american/speaker_01/american_s01_072.wav\n",
      "/mnt/c/Users/rutvik/Downloads/accentDB_extended/data/american/speaker_01/american_s01_073.wav\n",
      "/mnt/c/Users/rutvik/Downloads/accentDB_extended/data/american/speaker_01/american_s01_074.wav\n",
      "/mnt/c/Users/rutvik/Downloads/accentDB_extended/data/american/speaker_01/american_s01_075.wav\n",
      "/mnt/c/Users/rutvik/Downloads/accentDB_extended/data/american/speaker_01/american_s01_076.wav\n",
      "/mnt/c/Users/rutvik/Downloads/accentDB_extended/data/american/speaker_01/american_s01_077.wav\n",
      "/mnt/c/Users/rutvik/Downloads/accentDB_extended/data/american/speaker_01/american_s01_078.wav\n",
      "/mnt/c/Users/rutvik/Downloads/accentDB_extended/data/american/speaker_01/american_s01_079.wav\n",
      "/mnt/c/Users/rutvik/Downloads/accentDB_extended/data/american/speaker_01/american_s01_080.wav\n",
      "/mnt/c/Users/rutvik/Downloads/accentDB_extended/data/american/speaker_01/american_s01_081.wav\n",
      "/mnt/c/Users/rutvik/Downloads/accentDB_extended/data/american/speaker_01/american_s01_082.wav\n",
      "/mnt/c/Users/rutvik/Downloads/accentDB_extended/data/american/speaker_01/american_s01_083.wav\n",
      "/mnt/c/Users/rutvik/Downloads/accentDB_extended/data/american/speaker_01/american_s01_084.wav\n",
      "/mnt/c/Users/rutvik/Downloads/accentDB_extended/data/american/speaker_01/american_s01_085.wav\n",
      "/mnt/c/Users/rutvik/Downloads/accentDB_extended/data/american/speaker_01/american_s01_086.wav\n",
      "/mnt/c/Users/rutvik/Downloads/accentDB_extended/data/american/speaker_01/american_s01_087.wav\n",
      "/mnt/c/Users/rutvik/Downloads/accentDB_extended/data/american/speaker_01/american_s01_088.wav\n"
     ]
    },
    {
     "name": "stdout",
     "output_type": "stream",
     "text": [
      "/mnt/c/Users/rutvik/Downloads/accentDB_extended/data/american/speaker_01/american_s01_089.wav\n",
      "/mnt/c/Users/rutvik/Downloads/accentDB_extended/data/american/speaker_01/american_s01_090.wav\n",
      "/mnt/c/Users/rutvik/Downloads/accentDB_extended/data/american/speaker_01/american_s01_091.wav\n",
      "/mnt/c/Users/rutvik/Downloads/accentDB_extended/data/american/speaker_01/american_s01_092.wav\n",
      "/mnt/c/Users/rutvik/Downloads/accentDB_extended/data/american/speaker_01/american_s01_093.wav\n",
      "/mnt/c/Users/rutvik/Downloads/accentDB_extended/data/american/speaker_01/american_s01_094.wav\n",
      "/mnt/c/Users/rutvik/Downloads/accentDB_extended/data/american/speaker_01/american_s01_095.wav\n",
      "/mnt/c/Users/rutvik/Downloads/accentDB_extended/data/american/speaker_01/american_s01_096.wav\n",
      "/mnt/c/Users/rutvik/Downloads/accentDB_extended/data/american/speaker_01/american_s01_097.wav\n",
      "/mnt/c/Users/rutvik/Downloads/accentDB_extended/data/american/speaker_01/american_s01_098.wav\n",
      "/mnt/c/Users/rutvik/Downloads/accentDB_extended/data/american/speaker_01/american_s01_099.wav\n",
      "/mnt/c/Users/rutvik/Downloads/accentDB_extended/data/american/speaker_01/american_s01_100.wav\n",
      "/mnt/c/Users/rutvik/Downloads/accentDB_extended/data/american/speaker_01/american_s01_101.wav\n",
      "/mnt/c/Users/rutvik/Downloads/accentDB_extended/data/american/speaker_01/american_s01_102.wav\n",
      "/mnt/c/Users/rutvik/Downloads/accentDB_extended/data/american/speaker_01/american_s01_103.wav\n",
      "/mnt/c/Users/rutvik/Downloads/accentDB_extended/data/american/speaker_01/american_s01_104.wav\n",
      "/mnt/c/Users/rutvik/Downloads/accentDB_extended/data/american/speaker_01/american_s01_105.wav\n",
      "/mnt/c/Users/rutvik/Downloads/accentDB_extended/data/american/speaker_01/american_s01_106.wav\n",
      "/mnt/c/Users/rutvik/Downloads/accentDB_extended/data/american/speaker_01/american_s01_107.wav\n",
      "/mnt/c/Users/rutvik/Downloads/accentDB_extended/data/american/speaker_01/american_s01_108.wav\n",
      "/mnt/c/Users/rutvik/Downloads/accentDB_extended/data/american/speaker_01/american_s01_109.wav\n",
      "/mnt/c/Users/rutvik/Downloads/accentDB_extended/data/american/speaker_01/american_s01_110.wav\n",
      "/mnt/c/Users/rutvik/Downloads/accentDB_extended/data/american/speaker_01/american_s01_111.wav\n",
      "/mnt/c/Users/rutvik/Downloads/accentDB_extended/data/american/speaker_01/american_s01_112.wav\n",
      "/mnt/c/Users/rutvik/Downloads/accentDB_extended/data/american/speaker_01/american_s01_113.wav\n",
      "/mnt/c/Users/rutvik/Downloads/accentDB_extended/data/american/speaker_01/american_s01_114.wav\n",
      "/mnt/c/Users/rutvik/Downloads/accentDB_extended/data/american/speaker_01/american_s01_115.wav\n",
      "/mnt/c/Users/rutvik/Downloads/accentDB_extended/data/american/speaker_01/american_s01_116.wav\n",
      "/mnt/c/Users/rutvik/Downloads/accentDB_extended/data/american/speaker_01/american_s01_117.wav\n",
      "/mnt/c/Users/rutvik/Downloads/accentDB_extended/data/american/speaker_01/american_s01_118.wav\n",
      "/mnt/c/Users/rutvik/Downloads/accentDB_extended/data/american/speaker_01/american_s01_119.wav\n",
      "/mnt/c/Users/rutvik/Downloads/accentDB_extended/data/american/speaker_01/american_s01_120.wav\n",
      "/mnt/c/Users/rutvik/Downloads/accentDB_extended/data/american/speaker_01/american_s01_121.wav\n"
     ]
    },
    {
     "ename": "KeyboardInterrupt",
     "evalue": "",
     "output_type": "error",
     "traceback": [
      "\u001b[0;31m---------------------------------------------------------------------------\u001b[0m",
      "\u001b[0;31mKeyboardInterrupt\u001b[0m                         Traceback (most recent call last)",
      "Cell \u001b[0;32mIn [10], line 13\u001b[0m\n\u001b[1;32m     11\u001b[0m     all_data[\u001b[38;5;124m\"\u001b[39m\u001b[38;5;124mdata\u001b[39m\u001b[38;5;124m\"\u001b[39m][label] \u001b[38;5;241m=\u001b[39m []\n\u001b[1;32m     12\u001b[0m \u001b[38;5;28;01mfor\u001b[39;00m label, file \u001b[38;5;129;01min\u001b[39;00m \u001b[38;5;28mzip\u001b[39m(all_files_labels, all_files):\n\u001b[0;32m---> 13\u001b[0m     signal, _ \u001b[38;5;241m=\u001b[39m librosa\u001b[38;5;241m.\u001b[39mload(file, sr\u001b[38;5;241m=\u001b[39msr)\n\u001b[1;32m     14\u001b[0m     all_data[\u001b[38;5;124m\"\u001b[39m\u001b[38;5;124mdata\u001b[39m\u001b[38;5;124m\"\u001b[39m][label] \u001b[38;5;241m=\u001b[39m signal\n\u001b[1;32m     15\u001b[0m     \u001b[38;5;28mprint\u001b[39m(file)\n",
      "File \u001b[0;32m~/Final_Year_Project/venv/lib/python3.9/site-packages/librosa/util/decorators.py:88\u001b[0m, in \u001b[0;36mdeprecate_positional_args.<locals>._inner_deprecate_positional_args.<locals>.inner_f\u001b[0;34m(*args, **kwargs)\u001b[0m\n\u001b[1;32m     86\u001b[0m extra_args \u001b[38;5;241m=\u001b[39m \u001b[38;5;28mlen\u001b[39m(args) \u001b[38;5;241m-\u001b[39m \u001b[38;5;28mlen\u001b[39m(all_args)\n\u001b[1;32m     87\u001b[0m \u001b[38;5;28;01mif\u001b[39;00m extra_args \u001b[38;5;241m<\u001b[39m\u001b[38;5;241m=\u001b[39m \u001b[38;5;241m0\u001b[39m:\n\u001b[0;32m---> 88\u001b[0m     \u001b[38;5;28;01mreturn\u001b[39;00m \u001b[43mf\u001b[49m\u001b[43m(\u001b[49m\u001b[38;5;241;43m*\u001b[39;49m\u001b[43margs\u001b[49m\u001b[43m,\u001b[49m\u001b[43m \u001b[49m\u001b[38;5;241;43m*\u001b[39;49m\u001b[38;5;241;43m*\u001b[39;49m\u001b[43mkwargs\u001b[49m\u001b[43m)\u001b[49m\n\u001b[1;32m     90\u001b[0m \u001b[38;5;66;03m# extra_args > 0\u001b[39;00m\n\u001b[1;32m     91\u001b[0m args_msg \u001b[38;5;241m=\u001b[39m [\n\u001b[1;32m     92\u001b[0m     \u001b[38;5;124m\"\u001b[39m\u001b[38;5;132;01m{}\u001b[39;00m\u001b[38;5;124m=\u001b[39m\u001b[38;5;132;01m{}\u001b[39;00m\u001b[38;5;124m\"\u001b[39m\u001b[38;5;241m.\u001b[39mformat(name, arg)\n\u001b[1;32m     93\u001b[0m     \u001b[38;5;28;01mfor\u001b[39;00m name, arg \u001b[38;5;129;01min\u001b[39;00m \u001b[38;5;28mzip\u001b[39m(kwonly_args[:extra_args], args[\u001b[38;5;241m-\u001b[39mextra_args:])\n\u001b[1;32m     94\u001b[0m ]\n",
      "File \u001b[0;32m~/Final_Year_Project/venv/lib/python3.9/site-packages/librosa/core/audio.py:164\u001b[0m, in \u001b[0;36mload\u001b[0;34m(path, sr, mono, offset, duration, dtype, res_type)\u001b[0m\n\u001b[1;32m    161\u001b[0m \u001b[38;5;28;01melse\u001b[39;00m:\n\u001b[1;32m    162\u001b[0m     \u001b[38;5;66;03m# Otherwise try soundfile first, and then fall back if necessary\u001b[39;00m\n\u001b[1;32m    163\u001b[0m     \u001b[38;5;28;01mtry\u001b[39;00m:\n\u001b[0;32m--> 164\u001b[0m         y, sr_native \u001b[38;5;241m=\u001b[39m \u001b[43m__soundfile_load\u001b[49m\u001b[43m(\u001b[49m\u001b[43mpath\u001b[49m\u001b[43m,\u001b[49m\u001b[43m \u001b[49m\u001b[43moffset\u001b[49m\u001b[43m,\u001b[49m\u001b[43m \u001b[49m\u001b[43mduration\u001b[49m\u001b[43m,\u001b[49m\u001b[43m \u001b[49m\u001b[43mdtype\u001b[49m\u001b[43m)\u001b[49m\n\u001b[1;32m    166\u001b[0m     \u001b[38;5;28;01mexcept\u001b[39;00m \u001b[38;5;167;01mRuntimeError\u001b[39;00m \u001b[38;5;28;01mas\u001b[39;00m exc:\n\u001b[1;32m    167\u001b[0m         \u001b[38;5;66;03m# If soundfile failed, try audioread instead\u001b[39;00m\n\u001b[1;32m    168\u001b[0m         \u001b[38;5;28;01mif\u001b[39;00m \u001b[38;5;28misinstance\u001b[39m(path, (\u001b[38;5;28mstr\u001b[39m, pathlib\u001b[38;5;241m.\u001b[39mPurePath)):\n",
      "File \u001b[0;32m~/Final_Year_Project/venv/lib/python3.9/site-packages/librosa/core/audio.py:195\u001b[0m, in \u001b[0;36m__soundfile_load\u001b[0;34m(path, offset, duration, dtype)\u001b[0m\n\u001b[1;32m    192\u001b[0m     context \u001b[38;5;241m=\u001b[39m path\n\u001b[1;32m    193\u001b[0m \u001b[38;5;28;01melse\u001b[39;00m:\n\u001b[1;32m    194\u001b[0m     \u001b[38;5;66;03m# Otherwise, create the soundfile object\u001b[39;00m\n\u001b[0;32m--> 195\u001b[0m     context \u001b[38;5;241m=\u001b[39m \u001b[43msf\u001b[49m\u001b[38;5;241;43m.\u001b[39;49m\u001b[43mSoundFile\u001b[49m\u001b[43m(\u001b[49m\u001b[43mpath\u001b[49m\u001b[43m)\u001b[49m\n\u001b[1;32m    197\u001b[0m \u001b[38;5;28;01mwith\u001b[39;00m context \u001b[38;5;28;01mas\u001b[39;00m sf_desc:\n\u001b[1;32m    198\u001b[0m     sr_native \u001b[38;5;241m=\u001b[39m sf_desc\u001b[38;5;241m.\u001b[39msamplerate\n",
      "File \u001b[0;32m~/Final_Year_Project/venv/lib/python3.9/site-packages/soundfile.py:655\u001b[0m, in \u001b[0;36mSoundFile.__init__\u001b[0;34m(self, file, mode, samplerate, channels, subtype, endian, format, closefd)\u001b[0m\n\u001b[1;32m    652\u001b[0m \u001b[38;5;28mself\u001b[39m\u001b[38;5;241m.\u001b[39m_mode \u001b[38;5;241m=\u001b[39m mode\n\u001b[1;32m    653\u001b[0m \u001b[38;5;28mself\u001b[39m\u001b[38;5;241m.\u001b[39m_info \u001b[38;5;241m=\u001b[39m _create_info_struct(file, mode, samplerate, channels,\n\u001b[1;32m    654\u001b[0m                                  \u001b[38;5;28mformat\u001b[39m, subtype, endian)\n\u001b[0;32m--> 655\u001b[0m \u001b[38;5;28mself\u001b[39m\u001b[38;5;241m.\u001b[39m_file \u001b[38;5;241m=\u001b[39m \u001b[38;5;28;43mself\u001b[39;49m\u001b[38;5;241;43m.\u001b[39;49m\u001b[43m_open\u001b[49m\u001b[43m(\u001b[49m\u001b[43mfile\u001b[49m\u001b[43m,\u001b[49m\u001b[43m \u001b[49m\u001b[43mmode_int\u001b[49m\u001b[43m,\u001b[49m\u001b[43m \u001b[49m\u001b[43mclosefd\u001b[49m\u001b[43m)\u001b[49m\n\u001b[1;32m    656\u001b[0m \u001b[38;5;28;01mif\u001b[39;00m \u001b[38;5;28mset\u001b[39m(mode)\u001b[38;5;241m.\u001b[39missuperset(\u001b[38;5;124m'\u001b[39m\u001b[38;5;124mr+\u001b[39m\u001b[38;5;124m'\u001b[39m) \u001b[38;5;129;01mand\u001b[39;00m \u001b[38;5;28mself\u001b[39m\u001b[38;5;241m.\u001b[39mseekable():\n\u001b[1;32m    657\u001b[0m     \u001b[38;5;66;03m# Move write position to 0 (like in Python file objects)\u001b[39;00m\n\u001b[1;32m    658\u001b[0m     \u001b[38;5;28mself\u001b[39m\u001b[38;5;241m.\u001b[39mseek(\u001b[38;5;241m0\u001b[39m)\n",
      "File \u001b[0;32m~/Final_Year_Project/venv/lib/python3.9/site-packages/soundfile.py:1190\u001b[0m, in \u001b[0;36mSoundFile._open\u001b[0;34m(self, file, mode_int, closefd)\u001b[0m\n\u001b[1;32m   1188\u001b[0m \u001b[38;5;124;03m\"\"\"Call the appropriate sf_open*() function from libsndfile.\"\"\"\u001b[39;00m\n\u001b[1;32m   1189\u001b[0m \u001b[38;5;28;01mif\u001b[39;00m \u001b[38;5;28misinstance\u001b[39m(file, (_unicode, \u001b[38;5;28mbytes\u001b[39m)):\n\u001b[0;32m-> 1190\u001b[0m     \u001b[38;5;28;01mif\u001b[39;00m \u001b[43m_os\u001b[49m\u001b[38;5;241;43m.\u001b[39;49m\u001b[43mpath\u001b[49m\u001b[38;5;241;43m.\u001b[39;49m\u001b[43misfile\u001b[49m\u001b[43m(\u001b[49m\u001b[43mfile\u001b[49m\u001b[43m)\u001b[49m:\n\u001b[1;32m   1191\u001b[0m         \u001b[38;5;28;01mif\u001b[39;00m \u001b[38;5;124m'\u001b[39m\u001b[38;5;124mx\u001b[39m\u001b[38;5;124m'\u001b[39m \u001b[38;5;129;01min\u001b[39;00m \u001b[38;5;28mself\u001b[39m\u001b[38;5;241m.\u001b[39mmode:\n\u001b[1;32m   1192\u001b[0m             \u001b[38;5;28;01mraise\u001b[39;00m \u001b[38;5;167;01mOSError\u001b[39;00m(\u001b[38;5;124m\"\u001b[39m\u001b[38;5;124mFile exists: \u001b[39m\u001b[38;5;132;01m{0!r}\u001b[39;00m\u001b[38;5;124m\"\u001b[39m\u001b[38;5;241m.\u001b[39mformat(\u001b[38;5;28mself\u001b[39m\u001b[38;5;241m.\u001b[39mname))\n",
      "File \u001b[0;32m/usr/lib/python3.9/genericpath.py:30\u001b[0m, in \u001b[0;36misfile\u001b[0;34m(path)\u001b[0m\n\u001b[1;32m     28\u001b[0m \u001b[38;5;124;03m\"\"\"Test whether a path is a regular file\"\"\"\u001b[39;00m\n\u001b[1;32m     29\u001b[0m \u001b[38;5;28;01mtry\u001b[39;00m:\n\u001b[0;32m---> 30\u001b[0m     st \u001b[38;5;241m=\u001b[39m \u001b[43mos\u001b[49m\u001b[38;5;241;43m.\u001b[39;49m\u001b[43mstat\u001b[49m\u001b[43m(\u001b[49m\u001b[43mpath\u001b[49m\u001b[43m)\u001b[49m\n\u001b[1;32m     31\u001b[0m \u001b[38;5;28;01mexcept\u001b[39;00m (\u001b[38;5;167;01mOSError\u001b[39;00m, \u001b[38;5;167;01mValueError\u001b[39;00m):\n\u001b[1;32m     32\u001b[0m     \u001b[38;5;28;01mreturn\u001b[39;00m \u001b[38;5;28;01mFalse\u001b[39;00m\n",
      "\u001b[0;31mKeyboardInterrupt\u001b[0m: "
     ]
    }
   ],
   "source": [
    "all_data = dict()\n",
    "all_data[\"metadata\"] = {\n",
    "    \"sample_rate\": 8000,\n",
    "    \"total_labels\": 9,\n",
    "    \"accent_labels\": all_labels,\n",
    "    \"label_count\": label_count\n",
    "}\n",
    "all_data[\"data\"] = {}\n",
    "old_count = 0\n",
    "for label in all_labels:\n",
    "    all_data[\"data\"][label] = []\n",
    "for label, file in zip(all_files_labels, all_files):\n",
    "    signal, _ = librosa.load(file, sr=sr)\n",
    "    all_data[\"data\"][label] = signal\n",
    "    print(file)"
   ]
  },
  {
   "cell_type": "code",
   "execution_count": null,
   "id": "33405258",
   "metadata": {},
   "outputs": [],
   "source": [
    "import json\n",
    "with open(\"data.json\", \"w\") as fp:\n",
    "    json.dump(all_data , fp, indent = 4)"
   ]
  },
  {
   "cell_type": "code",
   "execution_count": null,
   "id": "69c25694",
   "metadata": {},
   "outputs": [],
   "source": []
  },
  {
   "cell_type": "code",
   "execution_count": null,
   "id": "c8861019",
   "metadata": {},
   "outputs": [],
   "source": []
  },
  {
   "cell_type": "code",
   "execution_count": null,
   "id": "d243f853",
   "metadata": {},
   "outputs": [],
   "source": []
  },
  {
   "cell_type": "code",
   "execution_count": null,
   "id": "c99568b8",
   "metadata": {},
   "outputs": [],
   "source": []
  }
 ],
 "metadata": {
  "kernelspec": {
   "display_name": "Python 3 (ipykernel)",
   "language": "python",
   "name": "python3"
  },
  "language_info": {
   "codemirror_mode": {
    "name": "ipython",
    "version": 3
   },
   "file_extension": ".py",
   "mimetype": "text/x-python",
   "name": "python",
   "nbconvert_exporter": "python",
   "pygments_lexer": "ipython3",
   "version": "3.9.2"
  }
 },
 "nbformat": 4,
 "nbformat_minor": 5
}
